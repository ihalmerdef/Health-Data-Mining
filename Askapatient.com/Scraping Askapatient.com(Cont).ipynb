{
 "cells": [
  {
   "cell_type": "code",
   "execution_count": 7,
   "metadata": {},
   "outputs": [],
   "source": [
    "from bs4 import BeautifulSoup\n",
    "import csv\n",
    "\n",
    "with open('acetazolamide.html',encoding=\"utf-8\") as html_file:\n",
    "    soup=BeautifulSoup(html_file,'html5lib')\n",
    "    ratingsTable=soup.find('table', class_='ratingsTable')\n",
    "    #print(ratingsTable)\n",
    "    output_rows = []\n",
    "for table_row in ratingsTable.findAll('tr'):\n",
    "    #print(table_row)\n",
    "    columns = table_row.findAll('td')\n",
    "    #print(columns)\n",
    "    output_row = []\n",
    "    for column in columns:\n",
    "        output_row.append(column.text)\n",
    "    output_rows.append(output_row)\n",
    "    #print(output_row)\n",
    "with open('acetazolamide.csv', 'w',encoding=\"utf-8\") as csvfile:\n",
    "    writer = csv.writer(csvfile)\n",
    "    writer.writerows(output_rows)\n"
   ]
  },
  {
   "cell_type": "code",
   "execution_count": null,
   "metadata": {},
   "outputs": [],
   "source": []
  }
 ],
 "metadata": {
  "kernelspec": {
   "display_name": "Python 3",
   "language": "python",
   "name": "python3"
  },
  "language_info": {
   "codemirror_mode": {
    "name": "ipython",
    "version": 3
   },
   "file_extension": ".py",
   "mimetype": "text/x-python",
   "name": "python",
   "nbconvert_exporter": "python",
   "pygments_lexer": "ipython3",
   "version": "3.6.10"
  }
 },
 "nbformat": 4,
 "nbformat_minor": 4
}
